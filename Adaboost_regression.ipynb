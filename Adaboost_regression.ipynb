{
 "cells": [
  {
   "cell_type": "markdown",
   "id": "c86dce2c",
   "metadata": {},
   "source": [
    "# AdaBoost Regression"
   ]
  },
  {
   "cell_type": "code",
   "execution_count": 1,
   "id": "5c1a692d",
   "metadata": {},
   "outputs": [],
   "source": [
    "import pandas as pd\n",
    "import numpy as np\n",
    "import matplotlib.pyplot as plt\n",
    "import seaborn as sns\n",
    "import plotly.express as px\n",
    "import warnings \n",
    "warnings.filterwarnings('ignore')\n",
    "%matplotlib inline"
   ]
  },
  {
   "cell_type": "code",
   "execution_count": 2,
   "id": "6f3ef13d",
   "metadata": {},
   "outputs": [],
   "source": [
    "df = pd.read_csv('cardekho_imputated.csv', index_col=[0])"
   ]
  },
  {
   "cell_type": "code",
   "execution_count": 3,
   "id": "1a4b0ae8",
   "metadata": {},
   "outputs": [],
   "source": [
    "## Removing the unnecessary columns\n",
    "df.drop(columns=['brand','car_name'],axis=1,inplace=True)"
   ]
  },
  {
   "cell_type": "code",
   "execution_count": 4,
   "id": "ac3464b7",
   "metadata": {},
   "outputs": [],
   "source": [
    "## train test split\n",
    "from sklearn.model_selection import train_test_split\n",
    "X=df.drop(['selling_price'],axis=1)\n",
    "y=df['selling_price']"
   ]
  },
  {
   "cell_type": "code",
   "execution_count": 5,
   "id": "e9be454a",
   "metadata": {},
   "outputs": [],
   "source": [
    "from sklearn.preprocessing import StandardScaler, LabelEncoder,OneHotEncoder\n",
    "from sklearn.compose import ColumnTransformer\n",
    "le=LabelEncoder()\n",
    "X['model']=le.fit_transform(X['model'])"
   ]
  },
  {
   "cell_type": "code",
   "execution_count": 6,
   "id": "d7f81227",
   "metadata": {},
   "outputs": [],
   "source": [
    "# Creating column transformer with 3 types of transformers\n",
    "num_features=X.select_dtypes(exclude='object').columns\n",
    "onehot_columns=['seller_type','fuel_type','transmission_type']\n",
    "numeric_transformer=StandardScaler()\n",
    "oh_transformer=OneHotEncoder(drop='first')\n",
    "preprocessor = ColumnTransformer([\n",
    "    ('OneHotEncoder',oh_transformer,onehot_columns),\n",
    "    ('StandardScaler',numeric_transformer,num_features)\n",
    "],remainder='passthrough')\n"
   ]
  },
  {
   "cell_type": "code",
   "execution_count": 7,
   "id": "c37370e4",
   "metadata": {},
   "outputs": [],
   "source": [
    "X=preprocessor.fit_transform(X)"
   ]
  },
  {
   "cell_type": "code",
   "execution_count": 8,
   "id": "03cbb8e2",
   "metadata": {},
   "outputs": [],
   "source": [
    "X_train, X_test, y_train, y_test = train_test_split(X,y,test_size=0.20,random_state=10)"
   ]
  },
  {
   "cell_type": "code",
   "execution_count": 9,
   "id": "24796c19",
   "metadata": {},
   "outputs": [],
   "source": [
    "from sklearn.ensemble import RandomForestRegressor, AdaBoostRegressor\n",
    "from sklearn.linear_model import LinearRegression,Ridge,Lasso\n",
    "from sklearn.neighbors import KNeighborsRegressor\n",
    "from sklearn.tree import DecisionTreeRegressor\n",
    "from sklearn.metrics import r2_score,mean_absolute_error,mean_squared_error"
   ]
  },
  {
   "cell_type": "code",
   "execution_count": 10,
   "id": "11722eed",
   "metadata": {},
   "outputs": [],
   "source": [
    "\n",
    "## Creating a function to evaluate model\n",
    "def evaluate_model(true,predicted):\n",
    "    mae=mean_absolute_error(true,predicted)\n",
    "    mse=mean_squared_error(true,predicted)\n",
    "    r2_square=r2_score(true,predicted)\n",
    "    return mae,mse,r2_square"
   ]
  },
  {
   "cell_type": "code",
   "execution_count": 12,
   "id": "bb5ed3d6",
   "metadata": {},
   "outputs": [
    {
     "name": "stdout",
     "output_type": "stream",
     "text": [
      "LinearRegression\n",
      "Model Performance for training set\n",
      "Mean Squared Error: 229251209296.3019\n",
      "Mean_Absolute Error: 260031.9512\n",
      "R2: 0.5214\n",
      "************************\n",
      "Model Performance for testing set\n",
      "Mean Squared Error: 567633907510.6738\n",
      "Mean_Absolute Error: 280915.9804\n",
      "R2: -0.1340\n",
      "\n",
      "\n",
      "Lasso\n",
      "Model Performance for training set\n",
      "Mean Squared Error: 229251214150.1726\n",
      "Mean_Absolute Error: 260030.0543\n",
      "R2: 0.5214\n",
      "************************\n",
      "Model Performance for testing set\n",
      "Mean Squared Error: 567632802563.0322\n",
      "Mean_Absolute Error: 280914.8656\n",
      "R2: -0.1340\n",
      "\n",
      "\n",
      "Ridge\n",
      "Model Performance for training set\n",
      "Mean Squared Error: 229251876065.9362\n",
      "Mean_Absolute Error: 260001.4870\n",
      "R2: 0.5213\n",
      "************************\n",
      "Model Performance for testing set\n",
      "Mean Squared Error: 567653596621.1935\n",
      "Mean_Absolute Error: 280894.8976\n",
      "R2: -0.1343\n",
      "\n",
      "\n",
      "AdaBoostRegressor\n",
      "Model Performance for training set\n",
      "Mean Squared Error: 154679859729.0932\n",
      "Mean_Absolute Error: 283850.4627\n",
      "R2: 0.7622\n",
      "************************\n",
      "Model Performance for testing set\n",
      "Mean Squared Error: 400160039906.4872\n",
      "Mean_Absolute Error: 294587.0435\n",
      "R2: 0.3620\n",
      "\n",
      "\n",
      "K-Neighbour Regressor\n",
      "Model Performance for training set\n",
      "Mean Squared Error: 53889001336.1352\n",
      "Mean_Absolute Error: 88358.6328\n",
      "R2: 0.9113\n",
      "************************\n",
      "Model Performance for testing set\n",
      "Mean Squared Error: 341590555977.9435\n",
      "Mean_Absolute Error: 118840.4801\n",
      "R2: 0.4161\n",
      "\n",
      "\n",
      "Decision Tree\n",
      "Model Performance for training set\n",
      "Mean Squared Error: 383900402.8769\n",
      "Mean_Absolute Error: 4814.6279\n",
      "R2: 0.9995\n",
      "************************\n",
      "Model Performance for testing set\n",
      "Mean Squared Error: 316444509133.5099\n",
      "Mean_Absolute Error: 136554.3789\n",
      "R2: 0.5542\n",
      "\n",
      "\n",
      "RandomForestRegressor\n",
      "Model Performance for training set\n",
      "Mean Squared Error: 8405005240.5290\n",
      "Mean_Absolute Error: 38616.8080\n",
      "R2: 0.9873\n",
      "************************\n",
      "Model Performance for testing set\n",
      "Mean Squared Error: 269403567247.9777\n",
      "Mean_Absolute Error: 109307.5730\n",
      "R2: 0.5915\n",
      "\n",
      "\n"
     ]
    }
   ],
   "source": [
    "## Model Training\n",
    "models={\n",
    "    'LinearRegression':LinearRegression(),\n",
    "    'Lasso':Lasso(),\n",
    "    'Ridge':Ridge(),\n",
    "    \"AdaBoostRegressor\":AdaBoostRegressor(),\n",
    "    'K-Neighbour Regressor':KNeighborsRegressor(),\n",
    "    'Decision Tree':DecisionTreeRegressor(),\n",
    "    'RandomForestRegressor':RandomForestRegressor()\n",
    "}\n",
    "for i in range(len(list(models))):\n",
    "    model=list(models.values())[i]\n",
    "    model.fit(X_train,y_train) #Training the Model\n",
    "    \n",
    "    # Making Predictions\n",
    "    y_train_pred=model.predict(X_train)\n",
    "    y_test_pred=model.predict(X_test)\n",
    "\n",
    "    ## Evaluating Train and Test Dataset\n",
    "    model_train_mae, model_train_mse, model_train_r2_square = evaluate_model(y_train_pred,y_train)\n",
    "    model_test_mae, model_test_mse, model_test_r2_square = evaluate_model(y_test_pred,y_test)\n",
    "\n",
    "    print(list(models.keys())[i])\n",
    "\n",
    "    print('Model Performance for training set')\n",
    "    print('Mean Squared Error: {:.4f}'.format(model_train_mse))\n",
    "    print('Mean_Absolute Error: {:.4f}'.format(model_train_mae))\n",
    "    print('R2: {:.4f}'.format(model_train_r2_square))\n",
    "\n",
    "    print('************************')\n",
    "\n",
    "    print('Model Performance for testing set')\n",
    "    print('Mean Squared Error: {:.4f}'.format(model_test_mse))\n",
    "    print('Mean_Absolute Error: {:.4f}'.format(model_test_mae))\n",
    "    print('R2: {:.4f}'.format(model_test_r2_square))\n",
    "\n",
    "   # print(','*35)\n",
    "    print('\\n')\n",
    "\n",
    "    \n",
    "\n",
    "\n",
    "\n",
    "\n"
   ]
  },
  {
   "cell_type": "code",
   "execution_count": null,
   "id": "854b2664",
   "metadata": {},
   "outputs": [],
   "source": []
  }
 ],
 "metadata": {
  "kernelspec": {
   "display_name": "Python 3",
   "language": "python",
   "name": "python3"
  },
  "language_info": {
   "codemirror_mode": {
    "name": "ipython",
    "version": 3
   },
   "file_extension": ".py",
   "mimetype": "text/x-python",
   "name": "python",
   "nbconvert_exporter": "python",
   "pygments_lexer": "ipython3",
   "version": "3.13.2"
  }
 },
 "nbformat": 4,
 "nbformat_minor": 5
}
