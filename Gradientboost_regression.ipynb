{
 "cells": [
  {
   "cell_type": "markdown",
   "id": "8394abf3",
   "metadata": {},
   "source": [
    "# GradientBoost Regression"
   ]
  },
  {
   "cell_type": "code",
   "execution_count": 14,
   "id": "150b3850",
   "metadata": {},
   "outputs": [],
   "source": [
    "import pandas as pd\n",
    "import numpy as np\n",
    "import matplotlib.pyplot as plt\n",
    "import seaborn as sns\n",
    "import plotly.express as px\n",
    "import warnings \n",
    "warnings.filterwarnings('ignore')\n",
    "%matplotlib inline"
   ]
  },
  {
   "cell_type": "code",
   "execution_count": 15,
   "id": "ddd9590e",
   "metadata": {},
   "outputs": [],
   "source": [
    "df = pd.read_csv('cardekho_imputated.csv', index_col=[0])"
   ]
  },
  {
   "cell_type": "code",
   "execution_count": 16,
   "id": "738b3e8c",
   "metadata": {},
   "outputs": [],
   "source": [
    "## Removing the unnecessary columns\n",
    "df.drop(columns=['brand','car_name'],axis=1,inplace=True)"
   ]
  },
  {
   "cell_type": "code",
   "execution_count": 17,
   "metadata": {},
   "outputs": [],
   "source": [
    "## train test split\n",
    "from sklearn.model_selection import train_test_split\n",
    "X=df.drop(['selling_price'],axis=1)\n",
    "y=df['selling_price']"
   ]
  },
  {
   "cell_type": "code",
   "execution_count": 18,
   "id": "a408ef26",
   "metadata": {},
   "outputs": [],
   "source": [
    "from sklearn.preprocessing import StandardScaler, LabelEncoder,OneHotEncoder\n",
    "from sklearn.compose import ColumnTransformer\n",
    "le=LabelEncoder()\n",
    "X['model']=le.fit_transform(X['model'])"
   ]
  },
  {
   "cell_type": "code",
   "execution_count": 19,
   "id": "270a9c01",
   "metadata": {},
   "outputs": [],
   "source": [
    "# Creating column transformer with 3 types of transformers\n",
    "num_features=X.select_dtypes(exclude='object').columns\n",
    "onehot_columns=['seller_type','fuel_type','transmission_type']\n",
    "numeric_transformer=StandardScaler()\n",
    "oh_transformer=OneHotEncoder(drop='first')\n",
    "preprocessor = ColumnTransformer([\n",
    "    ('OneHotEncoder',oh_transformer,onehot_columns),\n",
    "    ('StandardScaler',numeric_transformer,num_features)\n",
    "],remainder='passthrough')\n"
   ]
  },
  {
   "cell_type": "code",
   "execution_count": 20,
   "id": "34052175",
   "metadata": {},
   "outputs": [],
   "source": [
    "X=preprocessor.fit_transform(X)"
   ]
  },
  {
   "cell_type": "code",
   "execution_count": 21,
   "id": "eec41b47",
   "metadata": {},
   "outputs": [],
   "source": [
    "X_train, X_test, y_train, y_test = train_test_split(X,y,test_size=0.20,random_state=10)"
   ]
  },
  {
   "cell_type": "code",
   "execution_count": 22,
   "id": "f6f4474b",
   "metadata": {},
   "outputs": [],
   "source": [
    "from sklearn.ensemble import RandomForestRegressor, AdaBoostRegressor,GradientBoostingRegressor\n",
    "from sklearn.linear_model import LinearRegression,Ridge,Lasso\n",
    "from sklearn.neighbors import KNeighborsRegressor\n",
    "from sklearn.tree import DecisionTreeRegressor\n",
    "from sklearn.metrics import r2_score,mean_absolute_error,mean_squared_error"
   ]
  },
  {
   "cell_type": "code",
   "execution_count": 23,
   "id": "42cebb06",
   "metadata": {},
   "outputs": [],
   "source": [
    "\n",
    "## Creating a function to evaluate model\n",
    "def evaluate_model(true,predicted):\n",
    "    mae=mean_absolute_error(true,predicted)\n",
    "    mse=mean_squared_error(true,predicted)\n",
    "    r2_square=r2_score(true,predicted)\n",
    "    return mae,mse,r2_square"
   ]
  },
  {
   "cell_type": "code",
   "execution_count": 24,
   "id": "5be67d77",
   "metadata": {},
   "outputs": [
    {
     "name": "stdout",
     "output_type": "stream",
     "text": [
      "LinearRegression\n",
      "Model Performance for training set\n",
      "Mean Squared Error: 229251209296.3019\n",
      "Mean_Absolute Error: 260031.9512\n",
      "R2: 0.5214\n",
      "************************\n",
      "Model Performance for testing set\n",
      "Mean Squared Error: 567633907510.6738\n",
      "Mean_Absolute Error: 280915.9804\n",
      "R2: -0.1340\n",
      "\n",
      "\n",
      "Lasso\n",
      "Model Performance for training set\n",
      "Mean Squared Error: 229251214150.1726\n",
      "Mean_Absolute Error: 260030.0543\n",
      "R2: 0.5214\n",
      "************************\n",
      "Model Performance for testing set\n",
      "Mean Squared Error: 567632802563.0322\n",
      "Mean_Absolute Error: 280914.8656\n",
      "R2: -0.1340\n",
      "\n",
      "\n",
      "Ridge\n",
      "Model Performance for training set\n",
      "Mean Squared Error: 229251876065.9362\n",
      "Mean_Absolute Error: 260001.4870\n",
      "R2: 0.5213\n",
      "************************\n",
      "Model Performance for testing set\n",
      "Mean Squared Error: 567653596621.1935\n",
      "Mean_Absolute Error: 280894.8976\n",
      "R2: -0.1343\n",
      "\n",
      "\n",
      "AdaBoostRegressor\n",
      "Model Performance for training set\n",
      "Mean Squared Error: 177471002596.0596\n",
      "Mean_Absolute Error: 318422.4385\n",
      "R2: 0.7176\n",
      "************************\n",
      "Model Performance for testing set\n",
      "Mean Squared Error: 459621442296.6502\n",
      "Mean_Absolute Error: 328542.5465\n",
      "R2: 0.2153\n",
      "\n",
      "\n",
      "K-Neighbour Regressor\n",
      "Model Performance for training set\n",
      "Mean Squared Error: 53889001336.1352\n",
      "Mean_Absolute Error: 88358.6328\n",
      "R2: 0.9113\n",
      "************************\n",
      "Model Performance for testing set\n",
      "Mean Squared Error: 341590555977.9435\n",
      "Mean_Absolute Error: 118840.4801\n",
      "R2: 0.4161\n",
      "\n",
      "\n",
      "GradientBoostingRegressor\n",
      "Model Performance for training set\n",
      "Mean Squared Error: 42398167349.2726\n",
      "Mean_Absolute Error: 111534.3234\n",
      "R2: 0.9334\n",
      "************************\n",
      "Model Performance for testing set\n",
      "Mean Squared Error: 285020651463.0428\n",
      "Mean_Absolute Error: 130177.6167\n",
      "R2: 0.5258\n",
      "\n",
      "\n",
      "Decision Tree\n",
      "Model Performance for training set\n",
      "Mean Squared Error: 383900402.8769\n",
      "Mean_Absolute Error: 4814.6279\n",
      "R2: 0.9995\n",
      "************************\n",
      "Model Performance for testing set\n",
      "Mean Squared Error: 168488682818.9534\n",
      "Mean_Absolute Error: 134234.5064\n",
      "R2: 0.8004\n",
      "\n",
      "\n",
      "RandomForestRegressor\n",
      "Model Performance for training set\n",
      "Mean Squared Error: 8764523487.6778\n",
      "Mean_Absolute Error: 38537.5839\n",
      "R2: 0.9867\n",
      "************************\n",
      "Model Performance for testing set\n",
      "Mean Squared Error: 272550516142.1411\n",
      "Mean_Absolute Error: 109210.7021\n",
      "R2: 0.5848\n",
      "\n",
      "\n"
     ]
    }
   ],
   "source": [
    "## Model Training\n",
    "models={\n",
    "    'LinearRegression':LinearRegression(),\n",
    "    'Lasso':Lasso(),\n",
    "    'Ridge':Ridge(),\n",
    "    \"AdaBoostRegressor\":AdaBoostRegressor(),\n",
    "    'K-Neighbour Regressor':KNeighborsRegressor(),\n",
    "    \"GradientBoostingRegressor\":GradientBoostingRegressor(),\n",
    "    'Decision Tree':DecisionTreeRegressor(),\n",
    "    'RandomForestRegressor':RandomForestRegressor()\n",
    "}\n",
    "for i in range(len(list(models))):\n",
    "    model=list(models.values())[i]\n",
    "    model.fit(X_train,y_train) #Training the Model\n",
    "    \n",
    "    # Making Predictions\n",
    "    y_train_pred=model.predict(X_train)\n",
    "    y_test_pred=model.predict(X_test)\n",
    "\n",
    "    ## Evaluating Train and Test Dataset\n",
    "    model_train_mae, model_train_mse, model_train_r2_square = evaluate_model(y_train_pred,y_train)\n",
    "    model_test_mae, model_test_mse, model_test_r2_square = evaluate_model(y_test_pred,y_test)\n",
    "\n",
    "    print(list(models.keys())[i])\n",
    "\n",
    "    print('Model Performance for training set')\n",
    "    print('Mean Squared Error: {:.4f}'.format(model_train_mse))\n",
    "    print('Mean_Absolute Error: {:.4f}'.format(model_train_mae))\n",
    "    print('R2: {:.4f}'.format(model_train_r2_square))\n",
    "\n",
    "    print('************************')\n",
    "\n",
    "    print('Model Performance for testing set')\n",
    "    print('Mean Squared Error: {:.4f}'.format(model_test_mse))\n",
    "    print('Mean_Absolute Error: {:.4f}'.format(model_test_mae))\n",
    "    print('R2: {:.4f}'.format(model_test_r2_square))\n",
    "\n",
    "   # print(','*35)\n",
    "    print('\\n')\n",
    "\n",
    "    \n",
    "\n",
    "\n",
    "\n",
    "\n"
   ]
  },
  {
   "cell_type": "code",
   "execution_count": null,
   "id": "4466d158",
   "metadata": {},
   "outputs": [],
   "source": []
  },
  {
   "cell_type": "code",
   "execution_count": null,
   "id": "a1f4cb2e",
   "metadata": {},
   "outputs": [],
   "source": []
  }
 ],
 "metadata": {
  "kernelspec": {
   "display_name": "Python 3",
   "language": "python",
   "name": "python3"
  },
  "language_info": {
   "codemirror_mode": {
    "name": "ipython",
    "version": 3
   },
   "file_extension": ".py",
   "mimetype": "text/x-python",
   "name": "python",
   "nbconvert_exporter": "python",
   "pygments_lexer": "ipython3",
   "version": "3.13.2"
  }
 },
 "nbformat": 4,
 "nbformat_minor": 5
}
