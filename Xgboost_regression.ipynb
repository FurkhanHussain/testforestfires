{
 "cells": [
  {
   "cell_type": "markdown",
   "id": "e89c0a15",
   "metadata": {},
   "source": [
    "# XgBoost Rgression"
   ]
  },
  {
   "cell_type": "code",
   "execution_count": 1,
   "id": "8c5116fa",
   "metadata": {},
   "outputs": [],
   "source": [
    "import pandas as pd\n",
    "import numpy as np\n",
    "import matplotlib.pyplot as plt\n",
    "import seaborn as sns\n",
    "import plotly.express as px\n",
    "import warnings \n",
    "warnings.filterwarnings('ignore')\n",
    "%matplotlib inline"
   ]
  },
  {
   "cell_type": "code",
   "execution_count": 2,
   "id": "d232a251",
   "metadata": {},
   "outputs": [],
   "source": [
    "df = pd.read_csv('cardekho_imputated.csv', index_col=[0])"
   ]
  },
  {
   "cell_type": "code",
   "execution_count": 3,
   "id": "e89698c5",
   "metadata": {},
   "outputs": [],
   "source": [
    "## Removing the unnecessary columns\n",
    "df.drop(columns=['brand','car_name'],axis=1,inplace=True)"
   ]
  },
  {
   "cell_type": "code",
   "execution_count": 4,
   "id": "2d25cf7f",
   "metadata": {},
   "outputs": [],
   "source": [
    "## train test split\n",
    "from sklearn.model_selection import train_test_split\n",
    "X=df.drop(['selling_price'],axis=1)\n",
    "y=df['selling_price']"
   ]
  },
  {
   "cell_type": "code",
   "execution_count": 5,
   "id": "104ca3b1",
   "metadata": {},
   "outputs": [],
   "source": [
    "from sklearn.preprocessing import StandardScaler, LabelEncoder,OneHotEncoder\n",
    "from sklearn.compose import ColumnTransformer\n",
    "le=LabelEncoder()\n",
    "X['model']=le.fit_transform(X['model'])"
   ]
  },
  {
   "cell_type": "code",
   "execution_count": 6,
   "id": "804341a4",
   "metadata": {},
   "outputs": [],
   "source": [
    "# Creating column transformer with 3 types of transformers\n",
    "num_features=X.select_dtypes(exclude='object').columns\n",
    "onehot_columns=['seller_type','fuel_type','transmission_type']\n",
    "numeric_transformer=StandardScaler()\n",
    "oh_transformer=OneHotEncoder(drop='first')\n",
    "preprocessor = ColumnTransformer([\n",
    "    ('OneHotEncoder',oh_transformer,onehot_columns),\n",
    "    ('StandardScaler',numeric_transformer,num_features)\n",
    "],remainder='passthrough')\n"
   ]
  },
  {
   "cell_type": "code",
   "execution_count": 7,
   "id": "c282ad38",
   "metadata": {},
   "outputs": [],
   "source": [
    "X=preprocessor.fit_transform(X)"
   ]
  },
  {
   "cell_type": "code",
   "execution_count": 8,
   "id": "54255eae",
   "metadata": {},
   "outputs": [],
   "source": [
    "X_train, X_test, y_train, y_test = train_test_split(X,y,test_size=0.20,random_state=10)"
   ]
  },
  {
   "cell_type": "code",
   "execution_count": 11,
   "id": "5a9a92c6",
   "metadata": {},
   "outputs": [],
   "source": [
    "from sklearn.ensemble import RandomForestRegressor, AdaBoostRegressor,GradientBoostingRegressor\n",
    "from sklearn.linear_model import LinearRegression,Ridge,Lasso\n",
    "from sklearn.neighbors import KNeighborsRegressor\n",
    "from xgboost import XGBRegressor\n",
    "from sklearn.tree import DecisionTreeRegressor\n",
    "from sklearn.metrics import r2_score,mean_absolute_error,mean_squared_error"
   ]
  },
  {
   "cell_type": "code",
   "execution_count": 12,
   "id": "7b941f71",
   "metadata": {},
   "outputs": [],
   "source": [
    "\n",
    "## Creating a function to evaluate model\n",
    "def evaluate_model(true,predicted):\n",
    "    mae=mean_absolute_error(true,predicted)\n",
    "    mse=mean_squared_error(true,predicted)\n",
    "    r2_square=r2_score(true,predicted)\n",
    "    return mae,mse,r2_square"
   ]
  },
  {
   "cell_type": "code",
   "execution_count": 14,
   "id": "ac668669",
   "metadata": {},
   "outputs": [
    {
     "name": "stdout",
     "output_type": "stream",
     "text": [
      "LinearRegression\n",
      "Model Performance for training set\n",
      "Mean Squared Error: 229251209296.3019\n",
      "Mean_Absolute Error: 260031.9512\n",
      "R2: 0.5214\n",
      "************************\n",
      "Model Performance for testing set\n",
      "Mean Squared Error: 567633907510.6738\n",
      "Mean_Absolute Error: 280915.9804\n",
      "R2: -0.1340\n",
      "\n",
      "\n",
      "Lasso\n",
      "Model Performance for training set\n",
      "Mean Squared Error: 229251214150.1726\n",
      "Mean_Absolute Error: 260030.0543\n",
      "R2: 0.5214\n",
      "************************\n",
      "Model Performance for testing set\n",
      "Mean Squared Error: 567632802563.0322\n",
      "Mean_Absolute Error: 280914.8656\n",
      "R2: -0.1340\n",
      "\n",
      "\n",
      "Ridge\n",
      "Model Performance for training set\n",
      "Mean Squared Error: 229251876065.9362\n",
      "Mean_Absolute Error: 260001.4870\n",
      "R2: 0.5213\n",
      "************************\n",
      "Model Performance for testing set\n",
      "Mean Squared Error: 567653596621.1935\n",
      "Mean_Absolute Error: 280894.8976\n",
      "R2: -0.1343\n",
      "\n",
      "\n",
      "XGBRegressor\n",
      "Model Performance for training set\n",
      "Mean Squared Error: 7867887616.0000\n",
      "Mean_Absolute Error: 62502.3750\n",
      "R2: 0.9887\n",
      "************************\n",
      "Model Performance for testing set\n",
      "Mean Squared Error: 271256059904.0000\n",
      "Mean_Absolute Error: 104590.3438\n",
      "R2: 0.5936\n",
      "\n",
      "\n",
      "AdaBoostRegressor\n",
      "Model Performance for training set\n",
      "Mean Squared Error: 164869634725.7678\n",
      "Mean_Absolute Error: 297146.0764\n",
      "R2: 0.7451\n",
      "************************\n",
      "Model Performance for testing set\n",
      "Mean Squared Error: 429485928056.7935\n",
      "Mean_Absolute Error: 305662.5084\n",
      "R2: 0.3025\n",
      "\n",
      "\n",
      "K-Neighbour Regressor\n",
      "Model Performance for training set\n",
      "Mean Squared Error: 53889001336.1352\n",
      "Mean_Absolute Error: 88358.6328\n",
      "R2: 0.9113\n",
      "************************\n",
      "Model Performance for testing set\n",
      "Mean Squared Error: 341590555977.9435\n",
      "Mean_Absolute Error: 118840.4801\n",
      "R2: 0.4161\n",
      "\n",
      "\n",
      "GradientBoostingRegressor\n",
      "Model Performance for training set\n",
      "Mean Squared Error: 42398167349.2726\n",
      "Mean_Absolute Error: 111534.3234\n",
      "R2: 0.9334\n",
      "************************\n",
      "Model Performance for testing set\n",
      "Mean Squared Error: 294869997627.8910\n",
      "Mean_Absolute Error: 130043.6011\n",
      "R2: 0.5039\n",
      "\n",
      "\n",
      "Decision Tree\n",
      "Model Performance for training set\n",
      "Mean Squared Error: 383900402.8769\n",
      "Mean_Absolute Error: 4814.6279\n",
      "R2: 0.9995\n",
      "************************\n",
      "Model Performance for testing set\n",
      "Mean Squared Error: 316487501447.9944\n",
      "Mean_Absolute Error: 135848.1944\n",
      "R2: 0.5509\n",
      "\n",
      "\n",
      "RandomForestRegressor\n",
      "Model Performance for training set\n",
      "Mean Squared Error: 7830657313.7341\n",
      "Mean_Absolute Error: 38537.7795\n",
      "R2: 0.9882\n",
      "************************\n",
      "Model Performance for testing set\n",
      "Mean Squared Error: 264988230610.7177\n",
      "Mean_Absolute Error: 109449.3356\n",
      "R2: 0.6026\n",
      "\n",
      "\n"
     ]
    }
   ],
   "source": [
    "## Model Training\n",
    "models={\n",
    "    'LinearRegression':LinearRegression(),\n",
    "    'Lasso':Lasso(),\n",
    "    'Ridge':Ridge(),\n",
    "    'XGBRegressor':XGBRegressor(),\n",
    "    \"AdaBoostRegressor\":AdaBoostRegressor(),\n",
    "    'K-Neighbour Regressor':KNeighborsRegressor(),\n",
    "    \"GradientBoostingRegressor\":GradientBoostingRegressor(),\n",
    "    'Decision Tree':DecisionTreeRegressor(),\n",
    "    'RandomForestRegressor':RandomForestRegressor()\n",
    "}\n",
    "for i in range(len(list(models))):\n",
    "    model=list(models.values())[i]\n",
    "    model.fit(X_train,y_train) #Training the Model\n",
    "    \n",
    "    # Making Predictions\n",
    "    y_train_pred=model.predict(X_train)\n",
    "    y_test_pred=model.predict(X_test)\n",
    "\n",
    "    ## Evaluating Train and Test Dataset\n",
    "    model_train_mae, model_train_mse, model_train_r2_square = evaluate_model(y_train_pred,y_train)\n",
    "    model_test_mae, model_test_mse, model_test_r2_square = evaluate_model(y_test_pred,y_test)\n",
    "\n",
    "    print(list(models.keys())[i])\n",
    "\n",
    "    print('Model Performance for training set')\n",
    "    print('Mean Squared Error: {:.4f}'.format(model_train_mse))\n",
    "    print('Mean_Absolute Error: {:.4f}'.format(model_train_mae))\n",
    "    print('R2: {:.4f}'.format(model_train_r2_square))\n",
    "\n",
    "    print('************************')\n",
    "\n",
    "    print('Model Performance for testing set')\n",
    "    print('Mean Squared Error: {:.4f}'.format(model_test_mse))\n",
    "    print('Mean_Absolute Error: {:.4f}'.format(model_test_mae))\n",
    "    print('R2: {:.4f}'.format(model_test_r2_square))\n",
    "\n",
    "   # print(','*35)\n",
    "    print('\\n')"
   ]
  },
  {
   "cell_type": "code",
   "execution_count": null,
   "id": "ee31fcb3",
   "metadata": {},
   "outputs": [],
   "source": []
  }
 ],
 "metadata": {
  "kernelspec": {
   "display_name": "Python 3",
   "language": "python",
   "name": "python3"
  },
  "language_info": {
   "codemirror_mode": {
    "name": "ipython",
    "version": 3
   },
   "file_extension": ".py",
   "mimetype": "text/x-python",
   "name": "python",
   "nbconvert_exporter": "python",
   "pygments_lexer": "ipython3",
   "version": "3.13.2"
  }
 },
 "nbformat": 4,
 "nbformat_minor": 5
}
